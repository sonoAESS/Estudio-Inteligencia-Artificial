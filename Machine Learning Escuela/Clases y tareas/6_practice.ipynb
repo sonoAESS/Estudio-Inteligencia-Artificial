{
 "cells": [
  {
   "cell_type": "code",
   "execution_count": 114,
   "metadata": {},
   "outputs": [
    {
     "data": {
      "application/vnd.microsoft.datawrangler.viewer.v0+json": {
       "columns": [
        {
         "name": "index",
         "rawType": "int64",
         "type": "integer"
        },
        {
         "name": "Unnamed: 0",
         "rawType": "int64",
         "type": "integer"
        },
        {
         "name": "id",
         "rawType": "int64",
         "type": "integer"
        },
        {
         "name": "diet",
         "rawType": "category",
         "type": "unknown"
        },
        {
         "name": "pulse",
         "rawType": "int64",
         "type": "integer"
        },
        {
         "name": "time",
         "rawType": "category",
         "type": "unknown"
        },
        {
         "name": "kind",
         "rawType": "category",
         "type": "unknown"
        }
       ],
       "conversionMethod": "pd.DataFrame",
       "ref": "77535d75-298c-4b64-88cd-239d55717c6e",
       "rows": [
        [
         "0",
         "0",
         "1",
         "low fat",
         "85",
         "1 min",
         "rest"
        ],
        [
         "1",
         "1",
         "1",
         "low fat",
         "85",
         "15 min",
         "rest"
        ],
        [
         "2",
         "2",
         "1",
         "low fat",
         "88",
         "30 min",
         "rest"
        ],
        [
         "3",
         "3",
         "2",
         "low fat",
         "90",
         "1 min",
         "rest"
        ],
        [
         "4",
         "4",
         "2",
         "low fat",
         "92",
         "15 min",
         "rest"
        ]
       ],
       "shape": {
        "columns": 6,
        "rows": 5
       }
      },
      "text/html": [
       "<div>\n",
       "<style scoped>\n",
       "    .dataframe tbody tr th:only-of-type {\n",
       "        vertical-align: middle;\n",
       "    }\n",
       "\n",
       "    .dataframe tbody tr th {\n",
       "        vertical-align: top;\n",
       "    }\n",
       "\n",
       "    .dataframe thead th {\n",
       "        text-align: right;\n",
       "    }\n",
       "</style>\n",
       "<table border=\"1\" class=\"dataframe\">\n",
       "  <thead>\n",
       "    <tr style=\"text-align: right;\">\n",
       "      <th></th>\n",
       "      <th>Unnamed: 0</th>\n",
       "      <th>id</th>\n",
       "      <th>diet</th>\n",
       "      <th>pulse</th>\n",
       "      <th>time</th>\n",
       "      <th>kind</th>\n",
       "    </tr>\n",
       "  </thead>\n",
       "  <tbody>\n",
       "    <tr>\n",
       "      <th>0</th>\n",
       "      <td>0</td>\n",
       "      <td>1</td>\n",
       "      <td>low fat</td>\n",
       "      <td>85</td>\n",
       "      <td>1 min</td>\n",
       "      <td>rest</td>\n",
       "    </tr>\n",
       "    <tr>\n",
       "      <th>1</th>\n",
       "      <td>1</td>\n",
       "      <td>1</td>\n",
       "      <td>low fat</td>\n",
       "      <td>85</td>\n",
       "      <td>15 min</td>\n",
       "      <td>rest</td>\n",
       "    </tr>\n",
       "    <tr>\n",
       "      <th>2</th>\n",
       "      <td>2</td>\n",
       "      <td>1</td>\n",
       "      <td>low fat</td>\n",
       "      <td>88</td>\n",
       "      <td>30 min</td>\n",
       "      <td>rest</td>\n",
       "    </tr>\n",
       "    <tr>\n",
       "      <th>3</th>\n",
       "      <td>3</td>\n",
       "      <td>2</td>\n",
       "      <td>low fat</td>\n",
       "      <td>90</td>\n",
       "      <td>1 min</td>\n",
       "      <td>rest</td>\n",
       "    </tr>\n",
       "    <tr>\n",
       "      <th>4</th>\n",
       "      <td>4</td>\n",
       "      <td>2</td>\n",
       "      <td>low fat</td>\n",
       "      <td>92</td>\n",
       "      <td>15 min</td>\n",
       "      <td>rest</td>\n",
       "    </tr>\n",
       "  </tbody>\n",
       "</table>\n",
       "</div>"
      ],
      "text/plain": [
       "   Unnamed: 0  id     diet  pulse    time  kind\n",
       "0           0   1  low fat     85   1 min  rest\n",
       "1           1   1  low fat     85  15 min  rest\n",
       "2           2   1  low fat     88  30 min  rest\n",
       "3           3   2  low fat     90   1 min  rest\n",
       "4           4   2  low fat     92  15 min  rest"
      ]
     },
     "execution_count": 114,
     "metadata": {},
     "output_type": "execute_result"
    }
   ],
   "source": [
    "import pandas as pd\n",
    "import seaborn as sns\n",
    "import matplotlib.pyplot as plt\n",
    "\n",
    "df=sns.load_dataset(\"exercise\")\n",
    "df.head()\n"
   ]
  },
  {
   "cell_type": "code",
   "execution_count": 115,
   "metadata": {},
   "outputs": [
    {
     "name": "stdout",
     "output_type": "stream",
     "text": [
      "<class 'pandas.core.frame.DataFrame'>\n",
      "RangeIndex: 90 entries, 0 to 89\n",
      "Data columns (total 6 columns):\n",
      " #   Column      Non-Null Count  Dtype   \n",
      "---  ------      --------------  -----   \n",
      " 0   Unnamed: 0  90 non-null     int64   \n",
      " 1   id          90 non-null     int64   \n",
      " 2   diet        90 non-null     category\n",
      " 3   pulse       90 non-null     int64   \n",
      " 4   time        90 non-null     category\n",
      " 5   kind        90 non-null     category\n",
      "dtypes: category(3), int64(3)\n",
      "memory usage: 2.9 KB\n"
     ]
    }
   ],
   "source": [
    "df.info()"
   ]
  },
  {
   "cell_type": "code",
   "execution_count": 116,
   "metadata": {},
   "outputs": [
    {
     "name": "stdout",
     "output_type": "stream",
     "text": [
      "Diet: diet\n",
      "no fat     0.5\n",
      "low fat    0.5\n",
      "Name: proportion, dtype: float64\n",
      "\n",
      "Time: time\n",
      "1 min     0.333333\n",
      "15 min    0.333333\n",
      "30 min    0.333333\n",
      "Name: proportion, dtype: float64\n",
      "\n",
      "Kind: kind\n",
      "rest       0.333333\n",
      "walking    0.333333\n",
      "running    0.333333\n",
      "Name: proportion, dtype: float64\n",
      "\n"
     ]
    }
   ],
   "source": [
    "print(f\"Diet: {df[\"diet\"].value_counts(normalize=True)}\\n\")\n",
    "print(f\"Time: {df[\"time\"].value_counts(normalize=True)}\\n\")\n",
    "print(f\"Kind: {df[\"kind\"].value_counts(normalize=True)}\\n\")"
   ]
  },
  {
   "cell_type": "code",
   "execution_count": 117,
   "metadata": {},
   "outputs": [
    {
     "data": {
      "application/vnd.microsoft.datawrangler.viewer.v0+json": {
       "columns": [
        {
         "name": "index",
         "rawType": "int64",
         "type": "integer"
        },
        {
         "name": "diet",
         "rawType": "category",
         "type": "unknown"
        },
        {
         "name": "pulse",
         "rawType": "int64",
         "type": "integer"
        },
        {
         "name": "time",
         "rawType": "category",
         "type": "unknown"
        },
        {
         "name": "kind",
         "rawType": "category",
         "type": "unknown"
        }
       ],
       "conversionMethod": "pd.DataFrame",
       "ref": "4d4bdce9-b0fb-47d7-99c3-f9f6fa8d241d",
       "rows": [
        [
         "0",
         "low fat",
         "85",
         "1 min",
         "rest"
        ],
        [
         "1",
         "low fat",
         "85",
         "15 min",
         "rest"
        ],
        [
         "2",
         "low fat",
         "88",
         "30 min",
         "rest"
        ],
        [
         "3",
         "low fat",
         "90",
         "1 min",
         "rest"
        ],
        [
         "4",
         "low fat",
         "92",
         "15 min",
         "rest"
        ]
       ],
       "shape": {
        "columns": 4,
        "rows": 5
       }
      },
      "text/html": [
       "<div>\n",
       "<style scoped>\n",
       "    .dataframe tbody tr th:only-of-type {\n",
       "        vertical-align: middle;\n",
       "    }\n",
       "\n",
       "    .dataframe tbody tr th {\n",
       "        vertical-align: top;\n",
       "    }\n",
       "\n",
       "    .dataframe thead th {\n",
       "        text-align: right;\n",
       "    }\n",
       "</style>\n",
       "<table border=\"1\" class=\"dataframe\">\n",
       "  <thead>\n",
       "    <tr style=\"text-align: right;\">\n",
       "      <th></th>\n",
       "      <th>diet</th>\n",
       "      <th>pulse</th>\n",
       "      <th>time</th>\n",
       "      <th>kind</th>\n",
       "    </tr>\n",
       "  </thead>\n",
       "  <tbody>\n",
       "    <tr>\n",
       "      <th>0</th>\n",
       "      <td>low fat</td>\n",
       "      <td>85</td>\n",
       "      <td>1 min</td>\n",
       "      <td>rest</td>\n",
       "    </tr>\n",
       "    <tr>\n",
       "      <th>1</th>\n",
       "      <td>low fat</td>\n",
       "      <td>85</td>\n",
       "      <td>15 min</td>\n",
       "      <td>rest</td>\n",
       "    </tr>\n",
       "    <tr>\n",
       "      <th>2</th>\n",
       "      <td>low fat</td>\n",
       "      <td>88</td>\n",
       "      <td>30 min</td>\n",
       "      <td>rest</td>\n",
       "    </tr>\n",
       "    <tr>\n",
       "      <th>3</th>\n",
       "      <td>low fat</td>\n",
       "      <td>90</td>\n",
       "      <td>1 min</td>\n",
       "      <td>rest</td>\n",
       "    </tr>\n",
       "    <tr>\n",
       "      <th>4</th>\n",
       "      <td>low fat</td>\n",
       "      <td>92</td>\n",
       "      <td>15 min</td>\n",
       "      <td>rest</td>\n",
       "    </tr>\n",
       "  </tbody>\n",
       "</table>\n",
       "</div>"
      ],
      "text/plain": [
       "      diet  pulse    time  kind\n",
       "0  low fat     85   1 min  rest\n",
       "1  low fat     85  15 min  rest\n",
       "2  low fat     88  30 min  rest\n",
       "3  low fat     90   1 min  rest\n",
       "4  low fat     92  15 min  rest"
      ]
     },
     "execution_count": 117,
     "metadata": {},
     "output_type": "execute_result"
    }
   ],
   "source": [
    "df=df.drop(columns=[\"id\", \"Unnamed: 0\"])\n",
    "df.head()"
   ]
  },
  {
   "cell_type": "code",
   "execution_count": 118,
   "metadata": {},
   "outputs": [
    {
     "name": "stdout",
     "output_type": "stream",
     "text": [
      "<class 'pandas.core.frame.DataFrame'>\n",
      "RangeIndex: 90 entries, 0 to 89\n",
      "Data columns (total 4 columns):\n",
      " #   Column  Non-Null Count  Dtype   \n",
      "---  ------  --------------  -----   \n",
      " 0   diet    90 non-null     category\n",
      " 1   pulse   90 non-null     int64   \n",
      " 2   time    90 non-null     category\n",
      " 3   kind    90 non-null     category\n",
      "dtypes: category(3), int64(1)\n",
      "memory usage: 1.5 KB\n"
     ]
    }
   ],
   "source": [
    "df.info()"
   ]
  },
  {
   "cell_type": "code",
   "execution_count": 119,
   "metadata": {},
   "outputs": [
    {
     "data": {
      "application/vnd.microsoft.datawrangler.viewer.v0+json": {
       "columns": [
        {
         "name": "index",
         "rawType": "int64",
         "type": "integer"
        },
        {
         "name": "diet",
         "rawType": "category",
         "type": "unknown"
        },
        {
         "name": "pulse",
         "rawType": "int64",
         "type": "integer"
        },
        {
         "name": "time",
         "rawType": "category",
         "type": "unknown"
        },
        {
         "name": "kind",
         "rawType": "category",
         "type": "unknown"
        }
       ],
       "conversionMethod": "pd.DataFrame",
       "ref": "8fcd0b28-f617-4066-8a69-f92029ab201b",
       "rows": [
        [
         "0",
         "low fat",
         "85",
         "1 min",
         "rest"
        ],
        [
         "1",
         "low fat",
         "85",
         "15 min",
         "rest"
        ],
        [
         "2",
         "low fat",
         "88",
         "30 min",
         "rest"
        ],
        [
         "3",
         "low fat",
         "90",
         "1 min",
         "rest"
        ],
        [
         "4",
         "low fat",
         "92",
         "15 min",
         "rest"
        ],
        [
         "5",
         "low fat",
         "93",
         "30 min",
         "rest"
        ],
        [
         "6",
         "low fat",
         "97",
         "1 min",
         "rest"
        ],
        [
         "7",
         "low fat",
         "97",
         "15 min",
         "rest"
        ],
        [
         "8",
         "low fat",
         "94",
         "30 min",
         "rest"
        ],
        [
         "9",
         "low fat",
         "80",
         "1 min",
         "rest"
        ],
        [
         "10",
         "low fat",
         "82",
         "15 min",
         "rest"
        ],
        [
         "11",
         "low fat",
         "83",
         "30 min",
         "rest"
        ],
        [
         "12",
         "low fat",
         "91",
         "1 min",
         "rest"
        ],
        [
         "14",
         "low fat",
         "91",
         "30 min",
         "rest"
        ],
        [
         "15",
         "no fat",
         "83",
         "1 min",
         "rest"
        ],
        [
         "16",
         "no fat",
         "83",
         "15 min",
         "rest"
        ],
        [
         "17",
         "no fat",
         "84",
         "30 min",
         "rest"
        ],
        [
         "18",
         "no fat",
         "87",
         "1 min",
         "rest"
        ],
        [
         "19",
         "no fat",
         "88",
         "15 min",
         "rest"
        ],
        [
         "20",
         "no fat",
         "90",
         "30 min",
         "rest"
        ],
        [
         "21",
         "no fat",
         "92",
         "1 min",
         "rest"
        ],
        [
         "22",
         "no fat",
         "94",
         "15 min",
         "rest"
        ],
        [
         "23",
         "no fat",
         "95",
         "30 min",
         "rest"
        ],
        [
         "24",
         "no fat",
         "97",
         "1 min",
         "rest"
        ],
        [
         "25",
         "no fat",
         "99",
         "15 min",
         "rest"
        ],
        [
         "26",
         "no fat",
         "96",
         "30 min",
         "rest"
        ],
        [
         "27",
         "no fat",
         "100",
         "1 min",
         "rest"
        ],
        [
         "28",
         "no fat",
         "97",
         "15 min",
         "rest"
        ],
        [
         "29",
         "no fat",
         "100",
         "30 min",
         "rest"
        ],
        [
         "30",
         "low fat",
         "86",
         "1 min",
         "walking"
        ],
        [
         "31",
         "low fat",
         "86",
         "15 min",
         "walking"
        ],
        [
         "32",
         "low fat",
         "84",
         "30 min",
         "walking"
        ],
        [
         "33",
         "low fat",
         "93",
         "1 min",
         "walking"
        ],
        [
         "34",
         "low fat",
         "103",
         "15 min",
         "walking"
        ],
        [
         "35",
         "low fat",
         "104",
         "30 min",
         "walking"
        ],
        [
         "36",
         "low fat",
         "90",
         "1 min",
         "walking"
        ],
        [
         "37",
         "low fat",
         "92",
         "15 min",
         "walking"
        ],
        [
         "38",
         "low fat",
         "93",
         "30 min",
         "walking"
        ],
        [
         "39",
         "low fat",
         "95",
         "1 min",
         "walking"
        ],
        [
         "40",
         "low fat",
         "96",
         "15 min",
         "walking"
        ],
        [
         "41",
         "low fat",
         "100",
         "30 min",
         "walking"
        ],
        [
         "42",
         "low fat",
         "89",
         "1 min",
         "walking"
        ],
        [
         "44",
         "low fat",
         "95",
         "30 min",
         "walking"
        ],
        [
         "45",
         "no fat",
         "84",
         "1 min",
         "walking"
        ],
        [
         "46",
         "no fat",
         "86",
         "15 min",
         "walking"
        ],
        [
         "47",
         "no fat",
         "89",
         "30 min",
         "walking"
        ],
        [
         "48",
         "no fat",
         "103",
         "1 min",
         "walking"
        ],
        [
         "49",
         "no fat",
         "109",
         "15 min",
         "walking"
        ],
        [
         "50",
         "no fat",
         "90",
         "30 min",
         "walking"
        ],
        [
         "51",
         "no fat",
         "92",
         "1 min",
         "walking"
        ]
       ],
       "shape": {
        "columns": 4,
        "rows": 85
       }
      },
      "text/html": [
       "<div>\n",
       "<style scoped>\n",
       "    .dataframe tbody tr th:only-of-type {\n",
       "        vertical-align: middle;\n",
       "    }\n",
       "\n",
       "    .dataframe tbody tr th {\n",
       "        vertical-align: top;\n",
       "    }\n",
       "\n",
       "    .dataframe thead th {\n",
       "        text-align: right;\n",
       "    }\n",
       "</style>\n",
       "<table border=\"1\" class=\"dataframe\">\n",
       "  <thead>\n",
       "    <tr style=\"text-align: right;\">\n",
       "      <th></th>\n",
       "      <th>diet</th>\n",
       "      <th>pulse</th>\n",
       "      <th>time</th>\n",
       "      <th>kind</th>\n",
       "    </tr>\n",
       "  </thead>\n",
       "  <tbody>\n",
       "    <tr>\n",
       "      <th>0</th>\n",
       "      <td>low fat</td>\n",
       "      <td>85</td>\n",
       "      <td>1 min</td>\n",
       "      <td>rest</td>\n",
       "    </tr>\n",
       "    <tr>\n",
       "      <th>1</th>\n",
       "      <td>low fat</td>\n",
       "      <td>85</td>\n",
       "      <td>15 min</td>\n",
       "      <td>rest</td>\n",
       "    </tr>\n",
       "    <tr>\n",
       "      <th>2</th>\n",
       "      <td>low fat</td>\n",
       "      <td>88</td>\n",
       "      <td>30 min</td>\n",
       "      <td>rest</td>\n",
       "    </tr>\n",
       "    <tr>\n",
       "      <th>3</th>\n",
       "      <td>low fat</td>\n",
       "      <td>90</td>\n",
       "      <td>1 min</td>\n",
       "      <td>rest</td>\n",
       "    </tr>\n",
       "    <tr>\n",
       "      <th>4</th>\n",
       "      <td>low fat</td>\n",
       "      <td>92</td>\n",
       "      <td>15 min</td>\n",
       "      <td>rest</td>\n",
       "    </tr>\n",
       "    <tr>\n",
       "      <th>...</th>\n",
       "      <td>...</td>\n",
       "      <td>...</td>\n",
       "      <td>...</td>\n",
       "      <td>...</td>\n",
       "    </tr>\n",
       "    <tr>\n",
       "      <th>85</th>\n",
       "      <td>no fat</td>\n",
       "      <td>135</td>\n",
       "      <td>15 min</td>\n",
       "      <td>running</td>\n",
       "    </tr>\n",
       "    <tr>\n",
       "      <th>86</th>\n",
       "      <td>no fat</td>\n",
       "      <td>130</td>\n",
       "      <td>30 min</td>\n",
       "      <td>running</td>\n",
       "    </tr>\n",
       "    <tr>\n",
       "      <th>87</th>\n",
       "      <td>no fat</td>\n",
       "      <td>99</td>\n",
       "      <td>1 min</td>\n",
       "      <td>running</td>\n",
       "    </tr>\n",
       "    <tr>\n",
       "      <th>88</th>\n",
       "      <td>no fat</td>\n",
       "      <td>111</td>\n",
       "      <td>15 min</td>\n",
       "      <td>running</td>\n",
       "    </tr>\n",
       "    <tr>\n",
       "      <th>89</th>\n",
       "      <td>no fat</td>\n",
       "      <td>150</td>\n",
       "      <td>30 min</td>\n",
       "      <td>running</td>\n",
       "    </tr>\n",
       "  </tbody>\n",
       "</table>\n",
       "<p>85 rows × 4 columns</p>\n",
       "</div>"
      ],
      "text/plain": [
       "       diet  pulse    time     kind\n",
       "0   low fat     85   1 min     rest\n",
       "1   low fat     85  15 min     rest\n",
       "2   low fat     88  30 min     rest\n",
       "3   low fat     90   1 min     rest\n",
       "4   low fat     92  15 min     rest\n",
       "..      ...    ...     ...      ...\n",
       "85   no fat    135  15 min  running\n",
       "86   no fat    130  30 min  running\n",
       "87   no fat     99   1 min  running\n",
       "88   no fat    111  15 min  running\n",
       "89   no fat    150  30 min  running\n",
       "\n",
       "[85 rows x 4 columns]"
      ]
     },
     "execution_count": 119,
     "metadata": {},
     "output_type": "execute_result"
    }
   ],
   "source": [
    "df=df.dropna()\n",
    "df=df.drop_duplicates()\n",
    "df"
   ]
  },
  {
   "cell_type": "code",
   "execution_count": 120,
   "metadata": {},
   "outputs": [
    {
     "data": {
      "image/png": "[encoded data removed]",
      "text/plain": [
       "<Figure size 640x480 with 1 Axes>"
      ]
     },
     "metadata": {},
     "output_type": "display_data"
    }
   ],
   "source": [
    "## Análisis exploratorio\n",
    "## Univariado\n",
    "sns.histplot(df[\"pulse\"], color=\"orange\")\n",
    "plt.show()"
   ]
  },
  {
   "cell_type": "code",
   "execution_count": 121,
   "metadata": {},
   "outputs": [
    {
     "data": {
      "image/png": "[encoded data removed]",
      "text/plain": [
       "<Figure size 500x500 with 1 Axes>"
      ]
     },
     "metadata": {},
     "output_type": "display_data"
    },
    {
     "data": {
      "image/png": "[encoded data removed]",
      "text/plain": [
       "<Figure size 500x500 with 1 Axes>"
      ]
     },
     "metadata": {},
     "output_type": "display_data"
    },
    {
     "data": {
      "image/png": "[encoded data removed]",
      "text/plain": [
       "<Figure size 500x500 with 1 Axes>"
      ]
     },
     "metadata": {},
     "output_type": "display_data"
    }
   ],
   "source": [
    "category=[\"time\",\"diet\",\"kind\"]\n",
    "\n",
    "for i in category:\n",
    "    sns.displot(df[i], color=\"orange\")\n",
    "    plt.show()"
   ]
  },
  {
   "cell_type": "code",
   "execution_count": 122,
   "metadata": {},
   "outputs": [
    {
     "data": {
      "application/vnd.microsoft.datawrangler.viewer.v0+json": {
       "columns": [
        {
         "name": "index",
         "rawType": "int64",
         "type": "integer"
        },
        {
         "name": "diet",
         "rawType": "category",
         "type": "unknown"
        },
        {
         "name": "pulse",
         "rawType": "int64",
         "type": "integer"
        },
        {
         "name": "time",
         "rawType": "category",
         "type": "unknown"
        },
        {
         "name": "kind",
         "rawType": "category",
         "type": "unknown"
        }
       ],
       "conversionMethod": "pd.DataFrame",
       "ref": "ac07048f-86d6-43db-8fdc-3c3df95fd191",
       "rows": [
        [
         "0",
         "1",
         "85",
         "0",
         "0"
        ],
        [
         "1",
         "1",
         "85",
         "1",
         "0"
        ],
        [
         "2",
         "1",
         "88",
         "2",
         "0"
        ],
        [
         "3",
         "1",
         "90",
         "0",
         "0"
        ],
        [
         "4",
         "1",
         "92",
         "1",
         "0"
        ],
        [
         "5",
         "1",
         "93",
         "2",
         "0"
        ],
        [
         "6",
         "1",
         "97",
         "0",
         "0"
        ],
        [
         "7",
         "1",
         "97",
         "1",
         "0"
        ],
        [
         "8",
         "1",
         "94",
         "2",
         "0"
        ],
        [
         "9",
         "1",
         "80",
         "0",
         "0"
        ],
        [
         "10",
         "1",
         "82",
         "1",
         "0"
        ],
        [
         "11",
         "1",
         "83",
         "2",
         "0"
        ],
        [
         "12",
         "1",
         "91",
         "0",
         "0"
        ],
        [
         "14",
         "1",
         "91",
         "2",
         "0"
        ],
        [
         "15",
         "0",
         "83",
         "0",
         "0"
        ],
        [
         "16",
         "0",
         "83",
         "1",
         "0"
        ],
        [
         "17",
         "0",
         "84",
         "2",
         "0"
        ],
        [
         "18",
         "0",
         "87",
         "0",
         "0"
        ],
        [
         "19",
         "0",
         "88",
         "1",
         "0"
        ],
        [
         "20",
         "0",
         "90",
         "2",
         "0"
        ],
        [
         "21",
         "0",
         "92",
         "0",
         "0"
        ],
        [
         "22",
         "0",
         "94",
         "1",
         "0"
        ],
        [
         "23",
         "0",
         "95",
         "2",
         "0"
        ],
        [
         "24",
         "0",
         "97",
         "0",
         "0"
        ],
        [
         "25",
         "0",
         "99",
         "1",
         "0"
        ],
        [
         "26",
         "0",
         "96",
         "2",
         "0"
        ],
        [
         "27",
         "0",
         "100",
         "0",
         "0"
        ],
        [
         "28",
         "0",
         "97",
         "1",
         "0"
        ],
        [
         "29",
         "0",
         "100",
         "2",
         "0"
        ],
        [
         "30",
         "1",
         "86",
         "0",
         "1"
        ],
        [
         "31",
         "1",
         "86",
         "1",
         "1"
        ],
        [
         "32",
         "1",
         "84",
         "2",
         "1"
        ],
        [
         "33",
         "1",
         "93",
         "0",
         "1"
        ],
        [
         "34",
         "1",
         "103",
         "1",
         "1"
        ],
        [
         "35",
         "1",
         "104",
         "2",
         "1"
        ],
        [
         "36",
         "1",
         "90",
         "0",
         "1"
        ],
        [
         "37",
         "1",
         "92",
         "1",
         "1"
        ],
        [
         "38",
         "1",
         "93",
         "2",
         "1"
        ],
        [
         "39",
         "1",
         "95",
         "0",
         "1"
        ],
        [
         "40",
         "1",
         "96",
         "1",
         "1"
        ],
        [
         "41",
         "1",
         "100",
         "2",
         "1"
        ],
        [
         "42",
         "1",
         "89",
         "0",
         "1"
        ],
        [
         "44",
         "1",
         "95",
         "2",
         "1"
        ],
        [
         "45",
         "0",
         "84",
         "0",
         "1"
        ],
        [
         "46",
         "0",
         "86",
         "1",
         "1"
        ],
        [
         "47",
         "0",
         "89",
         "2",
         "1"
        ],
        [
         "48",
         "0",
         "103",
         "0",
         "1"
        ],
        [
         "49",
         "0",
         "109",
         "1",
         "1"
        ],
        [
         "50",
         "0",
         "90",
         "2",
         "1"
        ],
        [
         "51",
         "0",
         "92",
         "0",
         "1"
        ]
       ],
       "shape": {
        "columns": 4,
        "rows": 85
       }
      },
      "text/html": [
       "<div>\n",
       "<style scoped>\n",
       "    .dataframe tbody tr th:only-of-type {\n",
       "        vertical-align: middle;\n",
       "    }\n",
       "\n",
       "    .dataframe tbody tr th {\n",
       "        vertical-align: top;\n",
       "    }\n",
       "\n",
       "    .dataframe thead th {\n",
       "        text-align: right;\n",
       "    }\n",
       "</style>\n",
       "<table border=\"1\" class=\"dataframe\">\n",
       "  <thead>\n",
       "    <tr style=\"text-align: right;\">\n",
       "      <th></th>\n",
       "      <th>diet</th>\n",
       "      <th>pulse</th>\n",
       "      <th>time</th>\n",
       "      <th>kind</th>\n",
       "    </tr>\n",
       "  </thead>\n",
       "  <tbody>\n",
       "    <tr>\n",
       "      <th>0</th>\n",
       "      <td>1</td>\n",
       "      <td>85</td>\n",
       "      <td>0</td>\n",
       "      <td>0</td>\n",
       "    </tr>\n",
       "    <tr>\n",
       "      <th>1</th>\n",
       "      <td>1</td>\n",
       "      <td>85</td>\n",
       "      <td>1</td>\n",
       "      <td>0</td>\n",
       "    </tr>\n",
       "    <tr>\n",
       "      <th>2</th>\n",
       "      <td>1</td>\n",
       "      <td>88</td>\n",
       "      <td>2</td>\n",
       "      <td>0</td>\n",
       "    </tr>\n",
       "    <tr>\n",
       "      <th>3</th>\n",
       "      <td>1</td>\n",
       "      <td>90</td>\n",
       "      <td>0</td>\n",
       "      <td>0</td>\n",
       "    </tr>\n",
       "    <tr>\n",
       "      <th>4</th>\n",
       "      <td>1</td>\n",
       "      <td>92</td>\n",
       "      <td>1</td>\n",
       "      <td>0</td>\n",
       "    </tr>\n",
       "    <tr>\n",
       "      <th>...</th>\n",
       "      <td>...</td>\n",
       "      <td>...</td>\n",
       "      <td>...</td>\n",
       "      <td>...</td>\n",
       "    </tr>\n",
       "    <tr>\n",
       "      <th>85</th>\n",
       "      <td>0</td>\n",
       "      <td>135</td>\n",
       "      <td>1</td>\n",
       "      <td>2</td>\n",
       "    </tr>\n",
       "    <tr>\n",
       "      <th>86</th>\n",
       "      <td>0</td>\n",
       "      <td>130</td>\n",
       "      <td>2</td>\n",
       "      <td>2</td>\n",
       "    </tr>\n",
       "    <tr>\n",
       "      <th>87</th>\n",
       "      <td>0</td>\n",
       "      <td>99</td>\n",
       "      <td>0</td>\n",
       "      <td>2</td>\n",
       "    </tr>\n",
       "    <tr>\n",
       "      <th>88</th>\n",
       "      <td>0</td>\n",
       "      <td>111</td>\n",
       "      <td>1</td>\n",
       "      <td>2</td>\n",
       "    </tr>\n",
       "    <tr>\n",
       "      <th>89</th>\n",
       "      <td>0</td>\n",
       "      <td>150</td>\n",
       "      <td>2</td>\n",
       "      <td>2</td>\n",
       "    </tr>\n",
       "  </tbody>\n",
       "</table>\n",
       "<p>85 rows × 4 columns</p>\n",
       "</div>"
      ],
      "text/plain": [
       "   diet  pulse time kind\n",
       "0     1     85    0    0\n",
       "1     1     85    1    0\n",
       "2     1     88    2    0\n",
       "3     1     90    0    0\n",
       "4     1     92    1    0\n",
       "..  ...    ...  ...  ...\n",
       "85    0    135    1    2\n",
       "86    0    130    2    2\n",
       "87    0     99    0    2\n",
       "88    0    111    1    2\n",
       "89    0    150    2    2\n",
       "\n",
       "[85 rows x 4 columns]"
      ]
     },
     "execution_count": 122,
     "metadata": {},
     "output_type": "execute_result"
    }
   ],
   "source": [
    "#label encoding\n",
    "df[\"kind\"]=df[\"kind\"].map({'rest':0, 'walking':1, 'running':2})\n",
    "df[\"time\"]=df[\"time\"].map({'1 min':0, '15 min':1, '30 min':2})\n",
    "df[\"diet\"]=df[\"diet\"].map({'no fat':0, 'low fat':1})\n",
    "df"
   ]
  },
  {
   "cell_type": "code",
   "execution_count": 123,
   "metadata": {},
   "outputs": [
    {
     "data": {
      "application/vnd.microsoft.datawrangler.viewer.v0+json": {
       "columns": [
        {
         "name": "index",
         "rawType": "int64",
         "type": "integer"
        },
        {
         "name": "diet",
         "rawType": "category",
         "type": "unknown"
        },
        {
         "name": "pulse",
         "rawType": "float64",
         "type": "float"
        },
        {
         "name": "time",
         "rawType": "category",
         "type": "unknown"
        },
        {
         "name": "kind",
         "rawType": "category",
         "type": "unknown"
        }
       ],
       "conversionMethod": "pd.DataFrame",
       "ref": "8dd6bfbe-16c8-49c4-bed6-a6ebcc3ae3df",
       "rows": [
        [
         "0",
         "1",
         "-0.9884621589791751",
         "0",
         "0"
        ],
        [
         "1",
         "1",
         "-0.9884621589791751",
         "1",
         "0"
        ],
        [
         "2",
         "1",
         "-0.7777114478255885",
         "2",
         "0"
        ],
        [
         "3",
         "1",
         "-0.6372109737231975",
         "0",
         "0"
        ],
        [
         "4",
         "1",
         "-0.4967104996208065",
         "1",
         "0"
        ],
        [
         "5",
         "1",
         "-0.42646026256961095",
         "2",
         "0"
        ],
        [
         "6",
         "1",
         "-0.14545931436482887",
         "0",
         "0"
        ],
        [
         "7",
         "1",
         "-0.14545931436482887",
         "1",
         "0"
        ],
        [
         "8",
         "1",
         "-0.3562100255184154",
         "2",
         "0"
        ],
        [
         "9",
         "1",
         "-1.3397133442351528",
         "0",
         "0"
        ],
        [
         "10",
         "1",
         "-1.1992128701327618",
         "1",
         "0"
        ],
        [
         "11",
         "1",
         "-1.128962633081566",
         "2",
         "0"
        ],
        [
         "12",
         "1",
         "-0.566960736672002",
         "0",
         "0"
        ],
        [
         "14",
         "1",
         "-0.566960736672002",
         "2",
         "0"
        ],
        [
         "15",
         "0",
         "-1.128962633081566",
         "0",
         "0"
        ],
        [
         "16",
         "0",
         "-1.128962633081566",
         "1",
         "0"
        ],
        [
         "17",
         "0",
         "-1.0587123960303706",
         "2",
         "0"
        ],
        [
         "18",
         "0",
         "-0.847961684876784",
         "0",
         "0"
        ],
        [
         "19",
         "0",
         "-0.7777114478255885",
         "1",
         "0"
        ],
        [
         "20",
         "0",
         "-0.6372109737231975",
         "2",
         "0"
        ],
        [
         "21",
         "0",
         "-0.4967104996208065",
         "0",
         "0"
        ],
        [
         "22",
         "0",
         "-0.3562100255184154",
         "1",
         "0"
        ],
        [
         "23",
         "0",
         "-0.2859597884672199",
         "2",
         "0"
        ],
        [
         "24",
         "0",
         "-0.14545931436482887",
         "0",
         "0"
        ],
        [
         "25",
         "0",
         "-0.004958840262437813",
         "1",
         "0"
        ],
        [
         "26",
         "0",
         "-0.21570955141602438",
         "2",
         "0"
        ],
        [
         "27",
         "0",
         "0.06529139678875771",
         "0",
         "0"
        ],
        [
         "28",
         "0",
         "-0.14545931436482887",
         "1",
         "0"
        ],
        [
         "29",
         "0",
         "0.06529139678875771",
         "2",
         "0"
        ],
        [
         "30",
         "1",
         "-0.9182119219279796",
         "0",
         "1"
        ],
        [
         "31",
         "1",
         "-0.9182119219279796",
         "1",
         "1"
        ],
        [
         "32",
         "1",
         "-1.0587123960303706",
         "2",
         "1"
        ],
        [
         "33",
         "1",
         "-0.42646026256961095",
         "0",
         "1"
        ],
        [
         "34",
         "1",
         "0.2760421079423443",
         "1",
         "1"
        ],
        [
         "35",
         "1",
         "0.3462923449935398",
         "2",
         "1"
        ],
        [
         "36",
         "1",
         "-0.6372109737231975",
         "0",
         "1"
        ],
        [
         "37",
         "1",
         "-0.4967104996208065",
         "1",
         "1"
        ],
        [
         "38",
         "1",
         "-0.42646026256961095",
         "2",
         "1"
        ],
        [
         "39",
         "1",
         "-0.2859597884672199",
         "0",
         "1"
        ],
        [
         "40",
         "1",
         "-0.21570955141602438",
         "1",
         "1"
        ],
        [
         "41",
         "1",
         "0.06529139678875771",
         "2",
         "1"
        ],
        [
         "42",
         "1",
         "-0.7074612107743931",
         "0",
         "1"
        ],
        [
         "44",
         "1",
         "-0.2859597884672199",
         "2",
         "1"
        ],
        [
         "45",
         "0",
         "-1.0587123960303706",
         "0",
         "1"
        ],
        [
         "46",
         "0",
         "-0.9182119219279796",
         "1",
         "1"
        ],
        [
         "47",
         "0",
         "-0.7074612107743931",
         "2",
         "1"
        ],
        [
         "48",
         "0",
         "0.2760421079423443",
         "0",
         "1"
        ],
        [
         "49",
         "0",
         "0.6975435302495174",
         "1",
         "1"
        ],
        [
         "50",
         "0",
         "-0.6372109737231975",
         "2",
         "1"
        ],
        [
         "51",
         "0",
         "-0.4967104996208065",
         "0",
         "1"
        ]
       ],
       "shape": {
        "columns": 4,
        "rows": 85
       }
      },
      "text/html": [
       "<div>\n",
       "<style scoped>\n",
       "    .dataframe tbody tr th:only-of-type {\n",
       "        vertical-align: middle;\n",
       "    }\n",
       "\n",
       "    .dataframe tbody tr th {\n",
       "        vertical-align: top;\n",
       "    }\n",
       "\n",
       "    .dataframe thead th {\n",
       "        text-align: right;\n",
       "    }\n",
       "</style>\n",
       "<table border=\"1\" class=\"dataframe\">\n",
       "  <thead>\n",
       "    <tr style=\"text-align: right;\">\n",
       "      <th></th>\n",
       "      <th>diet</th>\n",
       "      <th>pulse</th>\n",
       "      <th>time</th>\n",
       "      <th>kind</th>\n",
       "    </tr>\n",
       "  </thead>\n",
       "  <tbody>\n",
       "    <tr>\n",
       "      <th>0</th>\n",
       "      <td>1</td>\n",
       "      <td>-0.988462</td>\n",
       "      <td>0</td>\n",
       "      <td>0</td>\n",
       "    </tr>\n",
       "    <tr>\n",
       "      <th>1</th>\n",
       "      <td>1</td>\n",
       "      <td>-0.988462</td>\n",
       "      <td>1</td>\n",
       "      <td>0</td>\n",
       "    </tr>\n",
       "    <tr>\n",
       "      <th>2</th>\n",
       "      <td>1</td>\n",
       "      <td>-0.777711</td>\n",
       "      <td>2</td>\n",
       "      <td>0</td>\n",
       "    </tr>\n",
       "    <tr>\n",
       "      <th>3</th>\n",
       "      <td>1</td>\n",
       "      <td>-0.637211</td>\n",
       "      <td>0</td>\n",
       "      <td>0</td>\n",
       "    </tr>\n",
       "    <tr>\n",
       "      <th>4</th>\n",
       "      <td>1</td>\n",
       "      <td>-0.496710</td>\n",
       "      <td>1</td>\n",
       "      <td>0</td>\n",
       "    </tr>\n",
       "    <tr>\n",
       "      <th>...</th>\n",
       "      <td>...</td>\n",
       "      <td>...</td>\n",
       "      <td>...</td>\n",
       "      <td>...</td>\n",
       "    </tr>\n",
       "    <tr>\n",
       "      <th>85</th>\n",
       "      <td>0</td>\n",
       "      <td>2.524050</td>\n",
       "      <td>1</td>\n",
       "      <td>2</td>\n",
       "    </tr>\n",
       "    <tr>\n",
       "      <th>86</th>\n",
       "      <td>0</td>\n",
       "      <td>2.172799</td>\n",
       "      <td>2</td>\n",
       "      <td>2</td>\n",
       "    </tr>\n",
       "    <tr>\n",
       "      <th>87</th>\n",
       "      <td>0</td>\n",
       "      <td>-0.004959</td>\n",
       "      <td>0</td>\n",
       "      <td>2</td>\n",
       "    </tr>\n",
       "    <tr>\n",
       "      <th>88</th>\n",
       "      <td>0</td>\n",
       "      <td>0.838044</td>\n",
       "      <td>1</td>\n",
       "      <td>2</td>\n",
       "    </tr>\n",
       "    <tr>\n",
       "      <th>89</th>\n",
       "      <td>0</td>\n",
       "      <td>3.577803</td>\n",
       "      <td>2</td>\n",
       "      <td>2</td>\n",
       "    </tr>\n",
       "  </tbody>\n",
       "</table>\n",
       "<p>85 rows × 4 columns</p>\n",
       "</div>"
      ],
      "text/plain": [
       "   diet     pulse time kind\n",
       "0     1 -0.988462    0    0\n",
       "1     1 -0.988462    1    0\n",
       "2     1 -0.777711    2    0\n",
       "3     1 -0.637211    0    0\n",
       "4     1 -0.496710    1    0\n",
       "..  ...       ...  ...  ...\n",
       "85    0  2.524050    1    2\n",
       "86    0  2.172799    2    2\n",
       "87    0 -0.004959    0    2\n",
       "88    0  0.838044    1    2\n",
       "89    0  3.577803    2    2\n",
       "\n",
       "[85 rows x 4 columns]"
      ]
     },
     "execution_count": 123,
     "metadata": {},
     "output_type": "execute_result"
    }
   ],
   "source": [
    "from sklearn.preprocessing import StandardScaler\n",
    "scaler=StandardScaler()\n",
    "df[[\"pulse\"]]=scaler.fit_transform(df[[\"pulse\"]])\n",
    "df"
   ]
  }
 ],
 "metadata": {
  "kernelspec": {
   "display_name": "entorno",
   "language": "python",
   "name": "python3"
  },
  "language_info": {
   "codemirror_mode": {
    "name": "ipython",
    "version": 3
   },
   "file_extension": ".py",
   "mimetype": "text/x-python",
   "name": "python",
   "nbconvert_exporter": "python",
   "pygments_lexer": "ipython3",
   "version": "3.12.0"
  }
 },
 "nbformat": 4,
 "nbformat_minor": 2
}
