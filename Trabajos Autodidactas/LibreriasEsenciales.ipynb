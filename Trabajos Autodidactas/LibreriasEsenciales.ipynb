{
 "cells": [
  {
   "cell_type": "code",
   "execution_count": 1,
   "metadata": {},
   "outputs": [
    {
     "name": "stderr",
     "output_type": "stream",
     "text": [
      "C:\\Users\\Antonio\\AppData\\Local\\Temp\\ipykernel_6260\\3161492830.py:3: DeprecationWarning: \n",
      "Pyarrow will become a required dependency of pandas in the next major release of pandas (pandas 3.0),\n",
      "(to allow more performant data types, such as the Arrow string type, and better interoperability with other libraries)\n",
      "but was not found to be installed on your system.\n",
      "If this would cause problems for you,\n",
      "please provide us feedback at https://github.com/pandas-dev/pandas/issues/54466\n",
      "        \n",
      "  import pandas as pd\n"
     ]
    }
   ],
   "source": [
    "# Comprender Numpy, Pandas, Matplotlib, Sickit-Learn\n",
    "import numpy as np\n",
    "import pandas as pd\n",
    "import matplotlib "
   ]
  },
  {
   "cell_type": "markdown",
   "metadata": {},
   "source": [
    "# Trabajo con Numpy\n",
    "\n",
    "Una lista en Python es dinamica, por lo que puede contener distintos tipos de datos, Numpy permite trabajar con datos numericos unicamente y hacer de este proceso mas rapido al consumir menos memoria, ademas de operaciones mas eficientes en comparacion al uso de librerias como array."
   ]
  },
  {
   "cell_type": "code",
   "execution_count": 3,
   "metadata": {},
   "outputs": [
    {
     "data": {
      "text/plain": [
       "array([1., 2., 3., 4.])"
      ]
     },
     "execution_count": 3,
     "metadata": {},
     "output_type": "execute_result"
    }
   ],
   "source": [
    "np.array([1,4,3.14,213]) # array a partir de lista de Python\n",
    "np.array([range(i,i+3) for i in [2,4,6]]) # ejemplo de creacion de matriz bidimiensional\n",
    "np.array([1,2,3,4], dtype=\"float\") # especificar tipos de datos"
   ]
  },
  {
   "cell_type": "code",
   "execution_count": 4,
   "metadata": {},
   "outputs": [
    {
     "data": {
      "text/plain": [
       "array([0., 0., 0.])"
      ]
     },
     "execution_count": 4,
     "metadata": {},
     "output_type": "execute_result"
    }
   ],
   "source": [
    "# generacion de arrays\n",
    "np.zeros(10, dtype=int) # genera un array de tam 10 de 0\n",
    "np.ones((3,5),dtype=float) # matriz de 3x5 de 1\n",
    "np.full((3,5), 3.14) # matriz de 3x5 de 3.14\n",
    "\n",
    "np.arange(0,20,2) # arreglo de 0 a 20 va de 2 en 2\n",
    "np.linspace(0,1,5) # mostrar cinco numeros entre 0 y 1 en trozos iguales\n",
    "np.random.random((3,3)) # 3X3 array valores random entre 0 y 1 \n",
    "np.random.normal(0,1, (3,3)) # igual, con media en 0 y desviacion estandar de 1\n",
    "np.random.randint(0,10, (3,3)) # matriz de int entre 0 y 10\n",
    "np.eye(3) # matriz de identidad de 3x3\n",
    "np.empty(3) # crear array sin inicializar, no se guarda en memoria"
   ]
  },
  {
   "cell_type": "code",
   "execution_count": 5,
   "metadata": {},
   "outputs": [
    {
     "name": "stdout",
     "output_type": "stream",
     "text": [
      "x3 dimensiones:  4\n",
      "x3 tamanno de dimensiones:  (3, 4, 5, 6)\n",
      "x3 tamanno de array:  360\n"
     ]
    }
   ],
   "source": [
    "x3=np.random.randint(10, size=(3,4,5,6)) # arreglo de (size) dimensiones  \n",
    "# todos los array tienen ndim(numero de dimensiones), shape(tamanno de cada diemension) y size(tamanno total del array)\n",
    "print(\"x3 dimensiones: \", x3.ndim)\n",
    "print(\"x3 tamanno de dimensiones: \", x3.shape)\n",
    "print(\"x3 tamanno de array: \", x3.size)"
   ]
  },
  {
   "cell_type": "code",
   "execution_count": 6,
   "metadata": {},
   "outputs": [
    {
     "name": "stdout",
     "output_type": "stream",
     "text": [
      "[1 9 4 9 0]\n"
     ]
    },
    {
     "data": {
      "text/plain": [
       "array([33,  9,  4,  9,  0])"
      ]
     },
     "execution_count": 6,
     "metadata": {},
     "output_type": "execute_result"
    }
   ],
   "source": [
    "# acceso a los elementos del array es igual que en las listas\n",
    "x1=np.random.randint(10, size=(5))\n",
    "print(x1)\n",
    "x1[0] # primer elemento\n",
    "x1[-2]# penultimo elemento\n",
    "# array multidimensionales se usan coordenadas [x,y,z]\n",
    "\n",
    "# modificar el valor igualando\n",
    "x1[0]=33\n",
    "x1"
   ]
  },
  {
   "cell_type": "code",
   "execution_count": 8,
   "metadata": {},
   "outputs": [
    {
     "data": {
      "text/plain": [
       "array([4, 5, 6])"
      ]
     },
     "execution_count": 8,
     "metadata": {},
     "output_type": "execute_result"
    }
   ],
   "source": [
    "# Desplazamiento en el array\n",
    "x=np.arange(10) \n",
    "x[:5]# primeros cinco elementos\n",
    "x[5:]# elementors despues de los primeros 5\n",
    "x[4:7]# elementos en este rango\n",
    "x[::2]# elementos en ese orden de dos en dos\n",
    "x[1::2]# todos los elementos de dos en dos desde 1\n",
    "x[::-1]# todos los elementos del reves\n",
    "x[5::-2]# todos los elementos del reves desde el indice 5"
   ]
  }
 ],
 "metadata": {
  "kernelspec": {
   "display_name": "Python 3",
   "language": "python",
   "name": "python3"
  },
  "language_info": {
   "codemirror_mode": {
    "name": "ipython",
    "version": 3
   },
   "file_extension": ".py",
   "mimetype": "text/x-python",
   "name": "python",
   "nbconvert_exporter": "python",
   "pygments_lexer": "ipython3",
   "version": "3.12.0"
  }
 },
 "nbformat": 4,
 "nbformat_minor": 2
}
