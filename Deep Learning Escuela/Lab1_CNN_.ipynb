{
  "nbformat": 4,
  "nbformat_minor": 0,
  "metadata": {
    "colab": {
      "provenance": [],
      "toc_visible": true
    },
    "kernelspec": {
      "name": "python3",
      "display_name": "Python 3"
    },
    "language_info": {
      "name": "python"
    }
  },
  "cells": [
    {
      "cell_type": "markdown",
      "source": [
        "### 1. Objetivos del Laboratorio\n",
        "* Comprender la teoría: Repasar los conceptos clave de la visión por computador y las CNN,(función de la capa de convolución, pooling, activación ReLU, y capas totalmente conectadas).\n",
        "\n",
        "* Implementación práctica: Construir una red neuronal convolucional simple usando una librería de deep learning (por ejemplo, TensorFlow/Keras o PyTorch).\n",
        "\n",
        "* Entrenamiento y evaluación: Entrenar la CNN en un conjunto de datos de imágenes y evaluar su desempeño en una tarea de clasificación.\n",
        "\n",
        "* Visualización y análisis: Analizar los filtros aprendidos y observar cómo cada capa extrae características (bordes, texturas, patrones, etc.) de las imágenes."
      ],
      "metadata": {
        "id": "Bklm-SxlYJUw"
      }
    },
    {
      "cell_type": "markdown",
      "source": [
        "2. Materiales y Herramientas\n",
        "\n",
        "Entorno de desarrollo: Python (Jupyter Notebook, Google Colab, VSC)\n",
        "\n",
        "Librerías: tensorflow, numpy, matplotlib.\n",
        "\n",
        "Dataset: MNIST (para dígitos) que se puede cargar directamente desde las APIs de las librerías.\n",
        "\n"
      ],
      "metadata": {
        "id": "xFOM5sQ9ZTGH"
      }
    },
    {
      "cell_type": "markdown",
      "source": [
        "### Preparación del Entorno y Carga del Dataset\n",
        "x_train y x_test: Contienen las imágenes de los dígitos.\n",
        "\n",
        "y_train y y_test: Contienen las etiquetas correspondientes (los dígitos que representan)."
      ],
      "metadata": {
        "id": "CIZASz-cZ3p3"
      }
    },
    {
      "cell_type": "code",
      "execution_count": null,
      "metadata": {
        "id": "BfOeknaHYEx0"
      },
      "outputs": [],
      "source": [
        "from tensorflow.keras.datasets import mnist\n",
        "\n",
        "# Cargar el dataset y dividirlo en entrenamiento y prueba\n",
        "(x_train, y_train), (x_test, y_test) = mnist.load_data()\n",
        "\n",
        "# Redimensionar las imágenes para incluir la dimensión de canales (en este caso, 1 canal)\n",
        "x_train = x_train.reshape(-1, 28, 28, 1)\n",
        "x_test = x_test.reshape(-1, 28, 28, 1)\n",
        "\n",
        "# Normalizar los valores de los píxeles para que estén entre 0 y 1\n",
        "x_train = x_train / 255.0\n",
        "x_test = x_test / 255.0\n",
        "\n"
      ]
    },
    {
      "cell_type": "markdown",
      "source": [
        "### Construcción de la Arquitectura de la CNN\n",
        "\n",
        "Capa de Convolución: Aplicar varios filtros (por ejemplo, 32 filtros de 3x3) con función de activación ReLU.\n",
        "\n",
        "Capa de Pooling: Utilizar max pooling para reducir la dimensionalidad espacial.\n",
        "\n",
        "Capa de Aplanamiento (Flatten): Convertir la salida 2D a un vector para conectarlo con la capa densa.\n",
        "\n",
        "Capa Totalmente Conectada (Dense): Una o dos capas densas que terminen en una capa softmax para clasificación."
      ],
      "metadata": {
        "id": "1FnYMp8BaEYj"
      }
    },
    {
      "cell_type": "code",
      "source": [
        "from tensorflow.keras.models import Sequential\n",
        "from tensorflow.keras.layers import Conv2D, MaxPooling2D, Flatten, Dense\n",
        "\n",
        "model = Sequential([\n",
        "    Conv2D(32, kernel_size=(3, 3), activation='relu', input_shape=(28, 28, 1)),\n",
        "    MaxPooling2D(pool_size=(2, 2)),\n",
        "    Flatten(),\n",
        "    Dense(128, activation='relu'),\n",
        "    Dense(10, activation='softmax')\n",
        "])\n",
        "\n",
        "model.compile(optimizer='adam', loss='sparse_categorical_crossentropy', metrics=['accuracy'])\n",
        "model.summary()\n"
      ],
      "metadata": {
        "colab": {
          "base_uri": "https://localhost:8080/",
          "height": 317
        },
        "id": "CPaoNEEcaHhA",
        "outputId": "cef4fe22-90fd-4f65-9951-1cc1a4803179"
      },
      "execution_count": null,
      "outputs": [
        {
          "output_type": "display_data",
          "data": {
            "text/plain": [
              "\u001b[1mModel: \"sequential_2\"\u001b[0m\n"
            ],
            "text/html": [
              "<pre style=\"white-space:pre;overflow-x:auto;line-height:normal;font-family:Menlo,'DejaVu Sans Mono',consolas,'Courier New',monospace\"><span style=\"font-weight: bold\">Model: \"sequential_2\"</span>\n",
              "</pre>\n"
            ]
          },
          "metadata": {}
        },
        {
          "output_type": "display_data",
          "data": {
            "text/plain": [
              "┏━━━━━━━━━━━━━━━━━━━━━━━━━━━━━━━━━━━━━━┳━━━━━━━━━━━━━━━━━━━━━━━━━━━━━┳━━━━━━━━━━━━━━━━━┓\n",
              "┃\u001b[1m \u001b[0m\u001b[1mLayer (type)                        \u001b[0m\u001b[1m \u001b[0m┃\u001b[1m \u001b[0m\u001b[1mOutput Shape               \u001b[0m\u001b[1m \u001b[0m┃\u001b[1m \u001b[0m\u001b[1m        Param #\u001b[0m\u001b[1m \u001b[0m┃\n",
              "┡━━━━━━━━━━━━━━━━━━━━━━━━━━━━━━━━━━━━━━╇━━━━━━━━━━━━━━━━━━━━━━━━━━━━━╇━━━━━━━━━━━━━━━━━┩\n",
              "│ conv2d_2 (\u001b[38;5;33mConv2D\u001b[0m)                    │ (\u001b[38;5;45mNone\u001b[0m, \u001b[38;5;34m26\u001b[0m, \u001b[38;5;34m26\u001b[0m, \u001b[38;5;34m32\u001b[0m)          │             \u001b[38;5;34m320\u001b[0m │\n",
              "├──────────────────────────────────────┼─────────────────────────────┼─────────────────┤\n",
              "│ max_pooling2d_2 (\u001b[38;5;33mMaxPooling2D\u001b[0m)       │ (\u001b[38;5;45mNone\u001b[0m, \u001b[38;5;34m13\u001b[0m, \u001b[38;5;34m13\u001b[0m, \u001b[38;5;34m32\u001b[0m)          │               \u001b[38;5;34m0\u001b[0m │\n",
              "├──────────────────────────────────────┼─────────────────────────────┼─────────────────┤\n",
              "│ flatten_2 (\u001b[38;5;33mFlatten\u001b[0m)                  │ (\u001b[38;5;45mNone\u001b[0m, \u001b[38;5;34m5408\u001b[0m)                │               \u001b[38;5;34m0\u001b[0m │\n",
              "├──────────────────────────────────────┼─────────────────────────────┼─────────────────┤\n",
              "│ dense_4 (\u001b[38;5;33mDense\u001b[0m)                      │ (\u001b[38;5;45mNone\u001b[0m, \u001b[38;5;34m128\u001b[0m)                 │         \u001b[38;5;34m692,352\u001b[0m │\n",
              "├──────────────────────────────────────┼─────────────────────────────┼─────────────────┤\n",
              "│ dense_5 (\u001b[38;5;33mDense\u001b[0m)                      │ (\u001b[38;5;45mNone\u001b[0m, \u001b[38;5;34m10\u001b[0m)                  │           \u001b[38;5;34m1,290\u001b[0m │\n",
              "└──────────────────────────────────────┴─────────────────────────────┴─────────────────┘\n"
            ],
            "text/html": [
              "<pre style=\"white-space:pre;overflow-x:auto;line-height:normal;font-family:Menlo,'DejaVu Sans Mono',consolas,'Courier New',monospace\">┏━━━━━━━━━━━━━━━━━━━━━━━━━━━━━━━━━━━━━━┳━━━━━━━━━━━━━━━━━━━━━━━━━━━━━┳━━━━━━━━━━━━━━━━━┓\n",
              "┃<span style=\"font-weight: bold\"> Layer (type)                         </span>┃<span style=\"font-weight: bold\"> Output Shape                </span>┃<span style=\"font-weight: bold\">         Param # </span>┃\n",
              "┡━━━━━━━━━━━━━━━━━━━━━━━━━━━━━━━━━━━━━━╇━━━━━━━━━━━━━━━━━━━━━━━━━━━━━╇━━━━━━━━━━━━━━━━━┩\n",
              "│ conv2d_2 (<span style=\"color: #0087ff; text-decoration-color: #0087ff\">Conv2D</span>)                    │ (<span style=\"color: #00d7ff; text-decoration-color: #00d7ff\">None</span>, <span style=\"color: #00af00; text-decoration-color: #00af00\">26</span>, <span style=\"color: #00af00; text-decoration-color: #00af00\">26</span>, <span style=\"color: #00af00; text-decoration-color: #00af00\">32</span>)          │             <span style=\"color: #00af00; text-decoration-color: #00af00\">320</span> │\n",
              "├──────────────────────────────────────┼─────────────────────────────┼─────────────────┤\n",
              "│ max_pooling2d_2 (<span style=\"color: #0087ff; text-decoration-color: #0087ff\">MaxPooling2D</span>)       │ (<span style=\"color: #00d7ff; text-decoration-color: #00d7ff\">None</span>, <span style=\"color: #00af00; text-decoration-color: #00af00\">13</span>, <span style=\"color: #00af00; text-decoration-color: #00af00\">13</span>, <span style=\"color: #00af00; text-decoration-color: #00af00\">32</span>)          │               <span style=\"color: #00af00; text-decoration-color: #00af00\">0</span> │\n",
              "├──────────────────────────────────────┼─────────────────────────────┼─────────────────┤\n",
              "│ flatten_2 (<span style=\"color: #0087ff; text-decoration-color: #0087ff\">Flatten</span>)                  │ (<span style=\"color: #00d7ff; text-decoration-color: #00d7ff\">None</span>, <span style=\"color: #00af00; text-decoration-color: #00af00\">5408</span>)                │               <span style=\"color: #00af00; text-decoration-color: #00af00\">0</span> │\n",
              "├──────────────────────────────────────┼─────────────────────────────┼─────────────────┤\n",
              "│ dense_4 (<span style=\"color: #0087ff; text-decoration-color: #0087ff\">Dense</span>)                      │ (<span style=\"color: #00d7ff; text-decoration-color: #00d7ff\">None</span>, <span style=\"color: #00af00; text-decoration-color: #00af00\">128</span>)                 │         <span style=\"color: #00af00; text-decoration-color: #00af00\">692,352</span> │\n",
              "├──────────────────────────────────────┼─────────────────────────────┼─────────────────┤\n",
              "│ dense_5 (<span style=\"color: #0087ff; text-decoration-color: #0087ff\">Dense</span>)                      │ (<span style=\"color: #00d7ff; text-decoration-color: #00d7ff\">None</span>, <span style=\"color: #00af00; text-decoration-color: #00af00\">10</span>)                  │           <span style=\"color: #00af00; text-decoration-color: #00af00\">1,290</span> │\n",
              "└──────────────────────────────────────┴─────────────────────────────┴─────────────────┘\n",
              "</pre>\n"
            ]
          },
          "metadata": {}
        },
        {
          "output_type": "display_data",
          "data": {
            "text/plain": [
              "\u001b[1m Total params: \u001b[0m\u001b[38;5;34m693,962\u001b[0m (2.65 MB)\n"
            ],
            "text/html": [
              "<pre style=\"white-space:pre;overflow-x:auto;line-height:normal;font-family:Menlo,'DejaVu Sans Mono',consolas,'Courier New',monospace\"><span style=\"font-weight: bold\"> Total params: </span><span style=\"color: #00af00; text-decoration-color: #00af00\">693,962</span> (2.65 MB)\n",
              "</pre>\n"
            ]
          },
          "metadata": {}
        },
        {
          "output_type": "display_data",
          "data": {
            "text/plain": [
              "\u001b[1m Trainable params: \u001b[0m\u001b[38;5;34m693,962\u001b[0m (2.65 MB)\n"
            ],
            "text/html": [
              "<pre style=\"white-space:pre;overflow-x:auto;line-height:normal;font-family:Menlo,'DejaVu Sans Mono',consolas,'Courier New',monospace\"><span style=\"font-weight: bold\"> Trainable params: </span><span style=\"color: #00af00; text-decoration-color: #00af00\">693,962</span> (2.65 MB)\n",
              "</pre>\n"
            ]
          },
          "metadata": {}
        },
        {
          "output_type": "display_data",
          "data": {
            "text/plain": [
              "\u001b[1m Non-trainable params: \u001b[0m\u001b[38;5;34m0\u001b[0m (0.00 B)\n"
            ],
            "text/html": [
              "<pre style=\"white-space:pre;overflow-x:auto;line-height:normal;font-family:Menlo,'DejaVu Sans Mono',consolas,'Courier New',monospace\"><span style=\"font-weight: bold\"> Non-trainable params: </span><span style=\"color: #00af00; text-decoration-color: #00af00\">0</span> (0.00 B)\n",
              "</pre>\n"
            ]
          },
          "metadata": {}
        }
      ]
    },
    {
      "cell_type": "markdown",
      "source": [
        "### Entrenamiento y Evaluación"
      ],
      "metadata": {
        "id": "Qmg0juwFaXJ3"
      }
    },
    {
      "cell_type": "code",
      "source": [
        "#Entrenar la red con el conjunto de entrenamiento y monitorizar el progreso.\n",
        "history = model.fit(x_train, y_train, epochs=5, validation_split=0.1)\n"
      ],
      "metadata": {
        "colab": {
          "base_uri": "https://localhost:8080/"
        },
        "id": "asiAymvPabSp",
        "outputId": "54ef405b-6ce1-470d-82b0-4ae0ae577d49"
      },
      "execution_count": null,
      "outputs": [
        {
          "output_type": "stream",
          "name": "stdout",
          "text": [
            "Epoch 1/5\n",
            "\u001b[1m1688/1688\u001b[0m \u001b[32m━━━━━━━━━━━━━━━━━━━━\u001b[0m\u001b[37m\u001b[0m \u001b[1m47s\u001b[0m 27ms/step - accuracy: 0.9073 - loss: 0.3136 - val_accuracy: 0.9813 - val_loss: 0.0669\n",
            "Epoch 2/5\n",
            "\u001b[1m1688/1688\u001b[0m \u001b[32m━━━━━━━━━━━━━━━━━━━━\u001b[0m\u001b[37m\u001b[0m \u001b[1m42s\u001b[0m 25ms/step - accuracy: 0.9826 - loss: 0.0586 - val_accuracy: 0.9817 - val_loss: 0.0657\n",
            "Epoch 3/5\n",
            "\u001b[1m1688/1688\u001b[0m \u001b[32m━━━━━━━━━━━━━━━━━━━━\u001b[0m\u001b[37m\u001b[0m \u001b[1m79s\u001b[0m 23ms/step - accuracy: 0.9889 - loss: 0.0351 - val_accuracy: 0.9867 - val_loss: 0.0517\n",
            "Epoch 4/5\n",
            "\u001b[1m1688/1688\u001b[0m \u001b[32m━━━━━━━━━━━━━━━━━━━━\u001b[0m\u001b[37m\u001b[0m \u001b[1m40s\u001b[0m 24ms/step - accuracy: 0.9935 - loss: 0.0210 - val_accuracy: 0.9880 - val_loss: 0.0475\n",
            "Epoch 5/5\n",
            "\u001b[1m1688/1688\u001b[0m \u001b[32m━━━━━━━━━━━━━━━━━━━━\u001b[0m\u001b[37m\u001b[0m \u001b[1m38s\u001b[0m 22ms/step - accuracy: 0.9956 - loss: 0.0145 - val_accuracy: 0.9875 - val_loss: 0.0559\n"
          ]
        }
      ]
    },
    {
      "cell_type": "code",
      "source": [
        "#Evaluar el modelo con el conjunto de prueba:\n",
        "test_loss, test_accuracy = model.evaluate(x_test, y_test)\n",
        "print(f\"Test accuracy: {test_accuracy:.2f}\")\n"
      ],
      "metadata": {
        "colab": {
          "base_uri": "https://localhost:8080/"
        },
        "id": "61dTQircap8-",
        "outputId": "3b64fbf1-711a-43b2-ee6e-fa95c4e0edac"
      },
      "execution_count": null,
      "outputs": [
        {
          "output_type": "stream",
          "name": "stdout",
          "text": [
            "\u001b[1m313/313\u001b[0m \u001b[32m━━━━━━━━━━━━━━━━━━━━\u001b[0m\u001b[37m\u001b[0m \u001b[1m3s\u001b[0m 10ms/step - accuracy: 0.9839 - loss: 0.0548\n",
            "Test accuracy: 0.99\n"
          ]
        }
      ]
    },
    {
      "cell_type": "markdown",
      "source": [
        "### Visualización y Análisis"
      ],
      "metadata": {
        "id": "ApfgaDeTawtO"
      }
    },
    {
      "cell_type": "code",
      "source": [
        "#Visualización de filtros: Extraer y visualizar algunos de los filtros aprendidos en la primera capa convolucional para comprender qué patrones están detectando.\n",
        "\n",
        "import matplotlib.pyplot as plt\n",
        "filters, biases = model.layers[0].get_weights()\n",
        "n_filters = filters.shape[-1]\n",
        "\n",
        "fig, axes = plt.subplots(1, n_filters, figsize=(20, 3))\n",
        "for i in range(n_filters):\n",
        "    ax = axes[i]\n",
        "    # Se visualiza el filtro del canal central (o se puede promediar entre canales)\n",
        "    ax.imshow(filters[:, :, 0, i], cmap='gray')\n",
        "    ax.axis('off')\n",
        "plt.show()\n"
      ],
      "metadata": {
        "colab": {
          "base_uri": "https://localhost:8080/",
          "height": 41
        },
        "id": "hl808UlmarJv",
        "outputId": "7e1f385a-ad9e-499a-fae1-136034e12347"
      },
      "execution_count": null,
      "outputs": [
        {
          "output_type": "display_data",
          "data": {
            "text/plain": [
              "<Figure size 2000x300 with 32 Axes>"
            ],
            "image/png": "[encoded data removed]"
          },
          "metadata": {}
        }
      ]
    },
    {
      "cell_type": "markdown",
      "source": [
        "Cada barra corresponde a un valor numérico en un vector de pesos (o de activaciones).\n",
        "\n",
        "* El color o tono de gris indica la magnitud y el signo (si se codifica así) de ese valor:\n",
        "\n",
        "* Tonos más claros/blancos: valores más altos o positivos.\n",
        "\n",
        "* Tonos oscuros/negros: valores más bajos o negativos.\n",
        "\n",
        "* Tonos grises intermedios: valores cercanos a cero o de magnitud media.\n",
        "\n",
        "Este tipo de visualizaciones ayuda a entender qué tan dispersos o concentrados están los valores de los pesos/activaciones.\n",
        "\n",
        "Permite ver si la red está aprendiendo patrones muy marcados (por ejemplo, muchos valores altos/positivos) o si los pesos están próximos a cero (lo que a veces indica “desactivación” de un filtro).\n",
        "\n"
      ],
      "metadata": {
        "id": "RwDHvLdQc7qP"
      }
    },
    {
      "cell_type": "markdown",
      "source": [
        "### Ejemplos de clasificacion"
      ],
      "metadata": {
        "id": "TtDqcCR9eDxA"
      }
    },
    {
      "cell_type": "code",
      "source": [
        "#ejemplo con una imagen de un numero en otro formato\n",
        "\n",
        "from PIL import Image\n",
        "import numpy as np\n",
        "\n",
        "# Cargar la imagen y convertirla a escala de grises\n",
        "img = Image.open(\"digit.png\").convert('L')\n",
        "\n",
        "# Redimensionar la imagen a 28x28 píxeles (formato MNIST)\n",
        "img = img.resize((28, 28))\n",
        "\n",
        "# Convertir la imagen a un arreglo numpy y normalizar los valores a [0, 1]\n",
        "img_array = np.array(img) / 255.0\n",
        "\n",
        "# Asegurar que el arreglo tenga la forma (1, 28, 28, 1)\n",
        "img_array = img_array.reshape(1, 28, 28, 1)\n",
        "\n",
        "# Usar el modelo entrenado para predecir la clase de la imagen\n",
        "prediction = model.predict(img_array)\n",
        "predicted_class = np.argmax(prediction, axis=1)[0]\n",
        "\n",
        "print(f\"La imagen fue clasificada como: {predicted_class}\")\n"
      ],
      "metadata": {
        "colab": {
          "base_uri": "https://localhost:8080/"
        },
        "id": "-RLJiFzfe88H",
        "outputId": "23341739-6720-4608-b7f5-1366e152652c"
      },
      "execution_count": null,
      "outputs": [
        {
          "output_type": "stream",
          "name": "stdout",
          "text": [
            "\u001b[1m1/1\u001b[0m \u001b[32m━━━━━━━━━━━━━━━━━━━━\u001b[0m\u001b[37m\u001b[0m \u001b[1m0s\u001b[0m 96ms/step\n",
            "La imagen fue clasificada como: 0\n"
          ]
        }
      ]
    },
    {
      "cell_type": "code",
      "source": [
        "#ejemplo con un numero escrito a mano en fondo negro\n",
        "from PIL import Image\n",
        "import numpy as np\n",
        "\n",
        "# Cargar la imagen y convertirla a escala de grises\n",
        "img = Image.open(\"digit2.png\").convert('L')\n",
        "\n",
        "# Redimensionar la imagen a 28x28 píxeles (formato MNIST)\n",
        "img = img.resize((28, 28))\n",
        "\n",
        "# Convertir la imagen a un arreglo numpy y normalizar los valores a [0, 1]\n",
        "img_array = np.array(img) / 255.0\n",
        "\n",
        "# Asegurar que el arreglo tenga la forma (1, 28, 28, 1)\n",
        "img_array = img_array.reshape(1, 28, 28, 1)\n",
        "\n",
        "# Usar el modelo entrenado para predecir la clase de la imagen\n",
        "prediction = model.predict(img_array)\n",
        "predicted_class = np.argmax(prediction, axis=1)[0]\n",
        "\n",
        "print(f\"La imagen fue clasificada como: {predicted_class}\")\n"
      ],
      "metadata": {
        "colab": {
          "base_uri": "https://localhost:8080/"
        },
        "id": "N2NBEZNPgCac",
        "outputId": "ba65c696-9109-4d0c-8d08-fcb33b592e4f"
      },
      "execution_count": null,
      "outputs": [
        {
          "output_type": "stream",
          "name": "stdout",
          "text": [
            "\u001b[1m1/1\u001b[0m \u001b[32m━━━━━━━━━━━━━━━━━━━━\u001b[0m\u001b[37m\u001b[0m \u001b[1m0s\u001b[0m 54ms/step\n",
            "La imagen fue clasificada como: 4\n"
          ]
        }
      ]
    },
    {
      "cell_type": "markdown",
      "source": [],
      "metadata": {
        "id": "v3CFZWxpe8lL"
      }
    }
  ]
}