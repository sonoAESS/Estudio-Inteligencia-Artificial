{
 "cells": [
  {
   "cell_type": "markdown",
   "id": "f11e7239",
   "metadata": {},
   "source": [
    "## Dataset Information\n",
    "Additional Information\n",
    "\n",
    "This data arises from a large study to examine EEG correlates of genetic predisposition to alcoholism. It contains measurements from 64 electrodes placed on subject's scalps which were sampled at 256 Hz (3.9-msec epoch) for 1 second. \n",
    "\n",
    "There were two groups of subjects: alcoholic and control. Each subject was exposed to either a single stimulus (S1) or to two stimuli (S1 and S2) which were pictures of objects chosen from the 1980 Snodgrass and Vanderwart picture set. When two stimuli were shown, they were presented in either a matched condition where S1 was identical to S2 or in a non-matched condition where S1 differed from S2. \n",
    "\n",
    "Shown here are example plots of a control (http://kdd.ics.uci.edu/databases/eeg/control.gif) and alcoholic (http://kdd.ics.uci.edu/databases/eeg/alcoholic.gif) subject. The plots indicate voltage, time, and channel and are averaged over 10 trials for the single stimulus condition. \n",
    "\n",
    "There were 122 subjects and each subject completed 120 trials where different stimuli were shown. The electrode positions were located at standard sites (Standard Electrode Position Nomenclature, American Electroencephalographic Association 1990). Zhang et al. (1995) describes in detail the data collection process. \n",
    "\n",
    "There are three versions of the EEG data set. \n",
    "\n",
    "1. The Small Data Set\n",
    "The small data set (smni97_eeg_data.tar.gz) contains data for the 2 subjects, alcoholic a_co2a0000364 and control c_co2c0000337. For each of the 3 matching paradigms, c_1 (one presentation only), c_m (match to previous presentation) and c_n (no-match to previous presentation), 10 runs are shown. \n",
    "\n",
    "2.  The Large Data Set\n",
    "The large data set (SMNI_CMI_TRAIN.tar.gz and SMNI_CMI_TEST.tar.gz) contains data for 10 alcoholic and 10 control subjects, with 10 runs per subject per paradigm. The test data used the same 10 alcoholic and 10 control subjects as with the training data, but with 10 out-of-sample runs per subject per paradigm. \n",
    "\n",
    "3. The Full Data Set\n",
    "This data set contains all 120 trials for 122 subjects. The entire set of data is about 700 MBytes. \n",
    "\n",
    "NOTE: There are 17 trials with empty files in co2c1000367. Some trials have \"err\" notices, e.g., search/grep for \"err\" and see \"S2 match err\" or \"S2 nomatch err\" etc. "
   ]
  }
 ],
 "metadata": {
  "kernelspec": {
   "display_name": "entorno",
   "language": "python",
   "name": "python3"
  },
  "language_info": {
   "name": "python",
   "version": "3.12.0"
  }
 },
 "nbformat": 4,
 "nbformat_minor": 5
}
